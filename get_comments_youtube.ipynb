{
 "cells": [
  {
   "cell_type": "code",
   "execution_count": 1,
   "id": "c1163429-4ef4-4e99-9dcb-c0451234cdb8",
   "metadata": {},
   "outputs": [],
   "source": [
    "import requests  # Importing the requests library to handle HTTP requests\n",
    "import json  # Importing json for JSON parsing"
   ]
  },
  {
   "cell_type": "code",
   "execution_count": 3,
   "id": "0744ccba-76e3-4b30-b172-7826d0b60bf2",
   "metadata": {},
   "outputs": [],
   "source": [
    "def get_youtube_comments(video_id):\n",
    "    api_key = 'your_api_token'  # Replace 'your_api_token' with your actual YouTube API key\n",
    "    url = f'https://www.googleapis.com/youtube/v3/commentThreads?part=snippet&videoId={video_id}&key={api_key}'  # Constructing the URL for the YouTube API request\n",
    "    response = requests.get(url)  # Sending GET request to YouTube API\n",
    "    data = response.json()  # Parsing the JSON response\n",
    "    comments = []  # Initializing a list to store comments\n",
    "\n",
    "    # Iterating through each comment item in the response data\n",
    "    for item in data['items']:\n",
    "        comment = item['snippet']['topLevelComment']['snippet']['textDisplay']  # Extracting the comment text\n",
    "        comments.append(comment)  # Appending the comment text to the list\n",
    "\n",
    "    return comments  # Returning the list of comments"
   ]
  },
  {
   "cell_type": "code",
   "execution_count": 4,
   "id": "baebbb87-3347-4da4-9e07-92e04b9a7ed1",
   "metadata": {},
   "outputs": [
    {
     "data": {
      "text/plain": [
       "['Спасибо ВАМ большое за видео урок !!!за разбор партий!!!Всё интересно и познавательно!!!всех благ Вам и удачи за ваш не лёгкий труд!!!',\n",
       " 'Думаю, о Магнусе-казиночнике (от казино + ночь) и Магнусе-игроке (речь о двух разбираемых партиях) можно сказать словами незабвенного Антон Палыча: &quot;Из уст Ивана Степановича (resp. Михаила Моисеевича) посыпались роскошные выражения, одно другого непечатнее… &quot;!',\n",
       " 'Спасибо огромное, про Берлин ещё кто-то захочет поспорить (но не я), а про быстрые шахматы - подписываюсь под каждым словом, и Вашим, и Ботвинника.',\n",
       " 'Да, меняются времена, и стратегия уходит на второй план. Теперь у шахматистов в правой руке тактика, а в левой движок, а в голове варианты, варианты, варианты...',\n",
       " 'Крамник говорил , что пешка на е5 ослабляет белые поля и это важный нюанс позиции. Практика показала , что Берлин пробить если не невозможно, но сложно.',\n",
       " 'Обожаю ваши видео❤❤❤!!!',\n",
       " 'Насколько я помню, когда белые h3 сыграли, вместо рокировки у чёрных есть Лg8 с маршем пешки g. Ведь зацепка уже есть. Это сильная новинка, где-то несколько лет назад так стали играть. И белым там тяжело.',\n",
       " 'Строго, но справедливо',\n",
       " 'Аскар Сайлауович, при всем уважении, вот вы говорите, что видели регулярно партии, как черные в берлине падали. А сколько вы видели игроков которые в берлине упали черными после года эдак 2015, да чтобы были из где-то топ 10 в классику? Этот эндшпиль с движком убит до голых королей почти во всех возможных вариантах, ласкер с таррашем тут уже совсем не в ту игру катали все-таки. Раз в год кто-нибудь белыми попробует какую-нибудь идейку достать, которая даст какой-нибудь символический плюсик, так еще в итоге сами еле ноги уносят. Идти белыми в берлин - просто поставить на то, что противник что-то забыл или недоработал дома.',\n",
       " 'Даа!! только хотел писать, чтобы рассмотрели их блиц партию из второго тура! По стилю, эта партия, а именно сильнейший маневр ферзем в казалось бы безнаежной ситуации, и сильнейшее подключение по 3-му ряду ладьи, подкрепляющее коня - будто бы смотришь партию Алёхина. <br>Хотя Со, конечно же, помог, вы это наглядно показали))<br>Спасибо!',\n",
       " 'Аскар Сайлауович, очень нравится как вы разжоваваете позиции, после просмотра плейлиста, скандинавской защиты, я стал гораздо лучше бороться с этой защитой, а не хотели бы вы?, выпустить книгу про партии Пола Мёрфи, что бы они были разжованы в вашем стиле без награмождения длиннющими вариантами, можно было бы собрать донаты на такое дело',\n",
       " 'Спасибо за обзор',\n",
       " '<b>Спасибо</b> 👍😎👍',\n",
       " 'Интересный формат турнира!',\n",
       " 'Я первый']"
      ]
     },
     "execution_count": 4,
     "metadata": {},
     "output_type": "execute_result"
    }
   ],
   "source": [
    "get_youtube_comments('EH18RPrDkG8')  # Example usage: fetching comments for a YouTube video with the specified video ID"
   ]
  },
  {
   "cell_type": "code",
   "execution_count": null,
   "id": "05b468bf-6fef-465d-855e-dec4577becd6",
   "metadata": {},
   "outputs": [],
   "source": []
  },
  {
   "cell_type": "code",
   "execution_count": null,
   "id": "07b99361-c422-42d3-8397-f69886f9c3eb",
   "metadata": {},
   "outputs": [],
   "source": []
  },
  {
   "cell_type": "code",
   "execution_count": null,
   "id": "4e29a1ae-69df-4640-8ba5-c1a300c6944b",
   "metadata": {},
   "outputs": [],
   "source": []
  }
 ],
 "metadata": {
  "kernelspec": {
   "display_name": "Python 3 (ipykernel)",
   "language": "python",
   "name": "python3"
  },
  "language_info": {
   "codemirror_mode": {
    "name": "ipython",
    "version": 3
   },
   "file_extension": ".py",
   "mimetype": "text/x-python",
   "name": "python",
   "nbconvert_exporter": "python",
   "pygments_lexer": "ipython3",
   "version": "3.11.0"
  }
 },
 "nbformat": 4,
 "nbformat_minor": 5
}
