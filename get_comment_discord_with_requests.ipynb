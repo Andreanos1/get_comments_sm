{
 "cells": [
  {
   "cell_type": "code",
   "execution_count": 23,
   "id": "22561d55-d3f8-46dc-a4be-3d0f7509c991",
   "metadata": {},
   "outputs": [],
   "source": [
    "import requests  # Importing the requests library to handle HTTP requests\n",
    "import pandas as pd  # Importing pandas for data manipulation and analysis\n",
    "import numpy as np  # Importing numpy for numerical computing\n",
    "from datetime import datetime  # Importing datetime for date and time operations\n",
    "import time  # Importing time for time-related functions"
   ]
  },
  {
   "cell_type": "code",
   "execution_count": 28,
   "id": "856efdf3-e660-43e9-b12e-0a6ed5e56a91",
   "metadata": {},
   "outputs": [],
   "source": [
    "pd.set_option('display.max_rows', None)\n",
    "pd.set_option('display.max_columns', None)"
   ]
  },
  {
   "cell_type": "code",
   "execution_count": 30,
   "id": "bc72d751-2da5-44d6-a73a-96e7d8fbc0af",
   "metadata": {},
   "outputs": [],
   "source": [
    "# Setting up initial parameters\n",
    "channel_id = \"your_channel_id\"  # Replace 'your_channel_id' with the actual channel ID\n",
    "bot_token = 'your_bot_token'  # Replace 'your_bot_token' with the actual bot token\n",
    "start_date = '2023-08-01'  # Start date for fetching messages\n",
    "unix_timestamp = int(time.mktime(time.strptime(start_date, '%Y-%m-%d')))  # Converting start_date to UNIX timestamp\n",
    "snowflake = (unix_timestamp * 1000) + 4194304  # Generating snowflake ID based on UNIX timestamp"
   ]
  },
  {
   "cell_type": "code",
   "execution_count": 36,
   "id": "285e0141-de0b-4f86-b73c-04655dd5639b",
   "metadata": {},
   "outputs": [
    {
     "data": {
      "text/plain": [
       "<Response [200]>"
      ]
     },
     "execution_count": 36,
     "metadata": {},
     "output_type": "execute_result"
    }
   ],
   "source": [
    "# Constructing the URL for API request\n",
    "url = f'https://discord.com/api/v10/channels/{channel_id}/messages'\n",
    "\n",
    "# Setting up authorization headers\n",
    "headers = {\n",
    "    'Authorization': f'Bot {bot_token}'\n",
    "}\n",
    "\n",
    "# Parameters for filtering messages after a certain snowflake ID\n",
    "params = {\n",
    "    'after': 1116014830244081757  # Replace this with the desired snowflake ID\n",
    "}\n",
    "\n",
    "# Sending GET request to Discord API to fetch messages\n",
    "response = requests.get(url, headers=headers)#, params=params)\n",
    "\n"
   ]
  },
  {
   "cell_type": "code",
   "execution_count": 1,
   "id": "9087e0a1-aee5-42f9-9cf7-c3317fbbd1af",
   "metadata": {},
   "outputs": [
    {
     "ename": "NameError",
     "evalue": "name 'response' is not defined",
     "output_type": "error",
     "traceback": [
      "\u001b[1;31m---------------------------------------------------------------------------\u001b[0m",
      "\u001b[1;31mNameError\u001b[0m                                 Traceback (most recent call last)",
      "Cell \u001b[1;32mIn[1], line 2\u001b[0m\n\u001b[0;32m      1\u001b[0m \u001b[38;5;66;03m# Storing the response data\u001b[39;00m\n\u001b[1;32m----> 2\u001b[0m data \u001b[38;5;241m=\u001b[39m \u001b[43mresponse\u001b[49m\u001b[38;5;241m.\u001b[39mjson()\n",
      "\u001b[1;31mNameError\u001b[0m: name 'response' is not defined"
     ]
    }
   ],
   "source": [
    "# Storing the response data\n",
    "data = response.json()\n",
    "\n",
    "# Converting the JSON response to a pandas DataFrame\n",
    "df = pd.json_normalize(data)\n",
    "\n",
    "# Displaying the DataFrame\n",
    "df"
   ]
  },
  {
   "cell_type": "code",
   "execution_count": null,
   "id": "61c6add7-211e-4996-a702-c53fa8911b64",
   "metadata": {},
   "outputs": [],
   "source": []
  }
 ],
 "metadata": {
  "kernelspec": {
   "display_name": "Python 3 (ipykernel)",
   "language": "python",
   "name": "python3"
  },
  "language_info": {
   "codemirror_mode": {
    "name": "ipython",
    "version": 3
   },
   "file_extension": ".py",
   "mimetype": "text/x-python",
   "name": "python",
   "nbconvert_exporter": "python",
   "pygments_lexer": "ipython3",
   "version": "3.11.0"
  }
 },
 "nbformat": 4,
 "nbformat_minor": 5
}
